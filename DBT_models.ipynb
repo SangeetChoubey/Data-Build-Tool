{
 "cells": [
  {
   "cell_type": "code",
   "execution_count": 1,
   "id": "963f9662",
   "metadata": {},
   "outputs": [
    {
     "name": "stdout",
     "output_type": "stream",
     "text": [
      "GraphQL Errors: [{'message': 'Variable \"$environmentId\" got invalid value \"your_environment_id\"; Expected type \"BigInt\". Cannot convert your_environment_id to a BigInt', 'locations': [{'line': 2, 'column': 30}], 'extensions': {'code': 'BAD_USER_INPUT'}}]\n",
      "No metadata found or error occurred.\n"
     ]
    },
    {
     "ename": "KeyError",
     "evalue": "'executionTime'",
     "output_type": "error",
     "traceback": [
      "\u001b[0;31m---------------------------------------------------------------------------\u001b[0m",
      "\u001b[0;31mKeyError\u001b[0m                                  Traceback (most recent call last)",
      "Cell \u001b[0;32mIn[1], line 95\u001b[0m\n\u001b[1;32m     92\u001b[0m     models_df \u001b[38;5;241m=\u001b[39m pd\u001b[38;5;241m.\u001b[39mconcat([models_df\u001b[38;5;241m.\u001b[39mdrop([\u001b[38;5;124m'\u001b[39m\u001b[38;5;124mexecutionInfo\u001b[39m\u001b[38;5;124m'\u001b[39m], axis\u001b[38;5;241m=\u001b[39m\u001b[38;5;241m1\u001b[39m), models_df[\u001b[38;5;124m'\u001b[39m\u001b[38;5;124mexecutionInfo\u001b[39m\u001b[38;5;124m'\u001b[39m]\u001b[38;5;241m.\u001b[39mapply(pd\u001b[38;5;241m.\u001b[39mSeries)], axis\u001b[38;5;241m=\u001b[39m\u001b[38;5;241m1\u001b[39m)\n\u001b[1;32m     94\u001b[0m \u001b[38;5;66;03m# Sort the models by execution time\u001b[39;00m\n\u001b[0;32m---> 95\u001b[0m models_df_sorted \u001b[38;5;241m=\u001b[39m models_df\u001b[38;5;241m.\u001b[39msort_values(\u001b[38;5;124m'\u001b[39m\u001b[38;5;124mexecutionTime\u001b[39m\u001b[38;5;124m'\u001b[39m, ascending\u001b[38;5;241m=\u001b[39m\u001b[38;5;28;01mFalse\u001b[39;00m)\n",
      "File \u001b[0;32m~/Documents/anaconda3/lib/python3.11/site-packages/pandas/util/_decorators.py:331\u001b[0m, in \u001b[0;36mdeprecate_nonkeyword_arguments.<locals>.decorate.<locals>.wrapper\u001b[0;34m(*args, **kwargs)\u001b[0m\n\u001b[1;32m    325\u001b[0m \u001b[38;5;28;01mif\u001b[39;00m \u001b[38;5;28mlen\u001b[39m(args) \u001b[38;5;241m>\u001b[39m num_allow_args:\n\u001b[1;32m    326\u001b[0m     warnings\u001b[38;5;241m.\u001b[39mwarn(\n\u001b[1;32m    327\u001b[0m         msg\u001b[38;5;241m.\u001b[39mformat(arguments\u001b[38;5;241m=\u001b[39m_format_argument_list(allow_args)),\n\u001b[1;32m    328\u001b[0m         \u001b[38;5;167;01mFutureWarning\u001b[39;00m,\n\u001b[1;32m    329\u001b[0m         stacklevel\u001b[38;5;241m=\u001b[39mfind_stack_level(),\n\u001b[1;32m    330\u001b[0m     )\n\u001b[0;32m--> 331\u001b[0m \u001b[38;5;28;01mreturn\u001b[39;00m func(\u001b[38;5;241m*\u001b[39margs, \u001b[38;5;241m*\u001b[39m\u001b[38;5;241m*\u001b[39mkwargs)\n",
      "File \u001b[0;32m~/Documents/anaconda3/lib/python3.11/site-packages/pandas/core/frame.py:6912\u001b[0m, in \u001b[0;36mDataFrame.sort_values\u001b[0;34m(self, by, axis, ascending, inplace, kind, na_position, ignore_index, key)\u001b[0m\n\u001b[1;32m   6908\u001b[0m \u001b[38;5;28;01melif\u001b[39;00m \u001b[38;5;28mlen\u001b[39m(by):\n\u001b[1;32m   6909\u001b[0m     \u001b[38;5;66;03m# len(by) == 1\u001b[39;00m\n\u001b[1;32m   6911\u001b[0m     by \u001b[38;5;241m=\u001b[39m by[\u001b[38;5;241m0\u001b[39m]\n\u001b[0;32m-> 6912\u001b[0m     k \u001b[38;5;241m=\u001b[39m \u001b[38;5;28mself\u001b[39m\u001b[38;5;241m.\u001b[39m_get_label_or_level_values(by, axis\u001b[38;5;241m=\u001b[39maxis)\n\u001b[1;32m   6914\u001b[0m     \u001b[38;5;66;03m# need to rewrap column in Series to apply key function\u001b[39;00m\n\u001b[1;32m   6915\u001b[0m     \u001b[38;5;28;01mif\u001b[39;00m key \u001b[38;5;129;01mis\u001b[39;00m \u001b[38;5;129;01mnot\u001b[39;00m \u001b[38;5;28;01mNone\u001b[39;00m:\n\u001b[1;32m   6916\u001b[0m         \u001b[38;5;66;03m# error: Incompatible types in assignment (expression has type\u001b[39;00m\n\u001b[1;32m   6917\u001b[0m         \u001b[38;5;66;03m# \"Series\", variable has type \"ndarray\")\u001b[39;00m\n",
      "File \u001b[0;32m~/Documents/anaconda3/lib/python3.11/site-packages/pandas/core/generic.py:1850\u001b[0m, in \u001b[0;36mNDFrame._get_label_or_level_values\u001b[0;34m(self, key, axis)\u001b[0m\n\u001b[1;32m   1844\u001b[0m     values \u001b[38;5;241m=\u001b[39m (\n\u001b[1;32m   1845\u001b[0m         \u001b[38;5;28mself\u001b[39m\u001b[38;5;241m.\u001b[39maxes[axis]\n\u001b[1;32m   1846\u001b[0m         \u001b[38;5;241m.\u001b[39mget_level_values(key)  \u001b[38;5;66;03m# type: ignore[assignment]\u001b[39;00m\n\u001b[1;32m   1847\u001b[0m         \u001b[38;5;241m.\u001b[39m_values\n\u001b[1;32m   1848\u001b[0m     )\n\u001b[1;32m   1849\u001b[0m \u001b[38;5;28;01melse\u001b[39;00m:\n\u001b[0;32m-> 1850\u001b[0m     \u001b[38;5;28;01mraise\u001b[39;00m \u001b[38;5;167;01mKeyError\u001b[39;00m(key)\n\u001b[1;32m   1852\u001b[0m \u001b[38;5;66;03m# Check for duplicates\u001b[39;00m\n\u001b[1;32m   1853\u001b[0m \u001b[38;5;28;01mif\u001b[39;00m values\u001b[38;5;241m.\u001b[39mndim \u001b[38;5;241m>\u001b[39m \u001b[38;5;241m1\u001b[39m:\n",
      "\u001b[0;31mKeyError\u001b[0m: 'executionTime'"
     ]
    }
   ],
   "source": [
    "import requests\n",
    "import pandas as pd\n",
    "import pytz\n",
    "\n",
    "# Set API key\n",
    "auth_token = \"get_your_api_key\" ##get your api key\n",
    "\n",
    "# Define query_one with pagination\n",
    "query_one = \"\"\"\n",
    "query GetLatestModelMetadata($environmentId: BigInt!, $first: Int!, $after: String) {\n",
    "  environment(id: $environmentId) {\n",
    "    applied {\n",
    "      models(first: $first, after: $after) {\n",
    "        edges {\n",
    "          node {\n",
    "            name\n",
    "            uniqueId\n",
    "            schema\n",
    "            database\n",
    "            materializedType\n",
    "            executionInfo {\n",
    "              lastSuccessRunId\n",
    "              executionTime\n",
    "              executeStartedAt\n",
    "            }\n",
    "          }\n",
    "        }\n",
    "        pageInfo {\n",
    "          endCursor\n",
    "          hasNextPage\n",
    "        }\n",
    "      }\n",
    "    }\n",
    "  }\n",
    "}\n",
    "\"\"\"\n",
    "\n",
    "# Query the API\n",
    "def query_discovery_api(auth_token, gql_query, variables):\n",
    "    response = requests.post(\n",
    "        'https://metadata.cloud.getdbt.com/graphql',\n",
    "        headers={\n",
    "            \"Authorization\": f\"Bearer {auth_token}\",\n",
    "            \"Content-Type\": \"application/json\"\n",
    "        },\n",
    "        json={\"query\": gql_query, \"variables\": variables}\n",
    "    )\n",
    "    try:\n",
    "        response_data = response.json()\n",
    "    except ValueError:\n",
    "        print(f\"Invalid JSON response: {response.text}\")\n",
    "        return None\n",
    "\n",
    "    # Handle GraphQL errors\n",
    "    if 'errors' in response_data:\n",
    "        print(\"GraphQL Errors:\", response_data[\"errors\"])\n",
    "        return None\n",
    "\n",
    "    return response_data.get('data', None)\n",
    "\n",
    "# Variables for query_one\n",
    "variables_query_one = {\n",
    "    \"environmentId\": 'your_environment_id',  # Replace with your environment ID\n",
    "    \"first\": 500,\n",
    "    \"after\": None  # Start with no cursor for the first page\n",
    "}\n",
    "\n",
    "# Fetch all models with pagination\n",
    "all_models = []\n",
    "while True:\n",
    "    data = query_discovery_api(auth_token, query_one, variables_query_one)\n",
    "    \n",
    "    if not data or not data.get(\"environment\"):\n",
    "        print(\"No metadata found or error occurred.\")\n",
    "        break\n",
    "\n",
    "    models_data = data[\"environment\"][\"applied\"][\"models\"]\n",
    "    all_models.extend([edge['node'] for edge in models_data['edges']])\n",
    "\n",
    "    # Check if there's another page\n",
    "    page_info = models_data[\"pageInfo\"]\n",
    "    if page_info[\"hasNextPage\"]:\n",
    "        variables_query_one[\"after\"] = page_info[\"endCursor\"]\n",
    "    else:\n",
    "        break\n",
    "\n",
    "# Convert all models to a dataframe\n",
    "models_df = pd.DataFrame(all_models)\n",
    "\n",
    "# Unnest the executionInfo column\n",
    "if 'executionInfo' in models_df:\n",
    "    models_df = pd.concat([models_df.drop(['executionInfo'], axis=1), models_df['executionInfo'].apply(pd.Series)], axis=1)\n",
    "\n",
    "# Sort the models by execution time\n",
    "models_df_sorted = models_df.sort_values('executionTime', ascending=False)\n",
    "\n",
    "\n"
   ]
  },
  {
   "cell_type": "code",
   "execution_count": null,
   "id": "7184b5d4",
   "metadata": {},
   "outputs": [],
   "source": [
    "models_df"
   ]
  },
  {
   "cell_type": "code",
   "execution_count": null,
   "id": "5b5d028c",
   "metadata": {},
   "outputs": [],
   "source": [
    "models_df['executeStartedAt'] = pd.to_datetime(models_df['executeStartedAt'])\n"
   ]
  },
  {
   "cell_type": "code",
   "execution_count": null,
   "id": "b6f57848",
   "metadata": {},
   "outputs": [],
   "source": [
    "# Convert from UTC to IST\n",
    "from pytz import timezone\n",
    "ist = timezone('Asia/Kolkata')\n",
    "\n",
    "dt_columns = ['executeStartedAt']\n",
    "\n",
    "for col in dt_columns:\n",
    "    models_df[col] = models_df[col].dt.tz_convert(ist)\n"
   ]
  },
  {
   "cell_type": "code",
   "execution_count": null,
   "id": "3c418ff5",
   "metadata": {},
   "outputs": [],
   "source": [
    "models_df"
   ]
  },
  {
   "cell_type": "code",
   "execution_count": null,
   "id": "8317e3a9",
   "metadata": {},
   "outputs": [],
   "source": [
    "from sqlalchemy import create_engine\n",
    "\n",
    "# Database connection details\n",
    "username = \"######\"\n",
    "password = \"######\"\n",
    "host = \"######\"  # Or your database host\n",
    "port = \"######\"  # Default PostgreSQL port\n",
    "database = \"######\"\n",
    "\n",
    "# Create an SQLAlchemy engine\n",
    "engine = create_engine(f\"postgresql+psycopg2://{username}:{password}@{host}:{port}/{database}\")\n"
   ]
  },
  {
   "cell_type": "code",
   "execution_count": null,
   "id": "b8613402",
   "metadata": {},
   "outputs": [],
   "source": [
    "models_df.to_sql('dbt_models', con=engine, schema='analytics', if_exists='replace', index=False)"
   ]
  },
  {
   "cell_type": "code",
   "execution_count": null,
   "id": "777dc71e",
   "metadata": {},
   "outputs": [],
   "source": []
  }
 ],
 "metadata": {
  "kernelspec": {
   "display_name": "Python 3 (ipykernel)",
   "language": "python",
   "name": "python3"
  },
  "language_info": {
   "codemirror_mode": {
    "name": "ipython",
    "version": 3
   },
   "file_extension": ".py",
   "mimetype": "text/x-python",
   "name": "python",
   "nbconvert_exporter": "python",
   "pygments_lexer": "ipython3",
   "version": "3.11.4"
  }
 },
 "nbformat": 4,
 "nbformat_minor": 5
}
